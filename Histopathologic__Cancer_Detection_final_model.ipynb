{
  "nbformat": 4,
  "nbformat_minor": 0,
  "metadata": {
    "colab": {
      "name": "Histopathologic_ Cancer_Detection_final_model.ipynb",
      "provenance": [],
      "collapsed_sections": [],
      "authorship_tag": "ABX9TyNUGpP02evpEdw5SG78Px60"
    },
    "kernelspec": {
      "display_name": "Python 3",
      "name": "python3"
    },
    "language_info": {
      "name": "python"
    },
    "accelerator": "GPU"
  },
  "cells": [
    {
      "cell_type": "code",
      "metadata": {
        "colab": {
          "base_uri": "https://localhost:8080/"
        },
        "id": "F1zH06L0iM1k",
        "outputId": "d75738af-a4ca-4360-ba3b-2405410c2a11"
      },
      "source": [
        "#Import packages\n",
        "import torchvision\n",
        "import torch.nn as nn\n",
        "import torch\n",
        "import torch.nn.functional as F\n",
        "from torchvision import transforms, models, datasets\n",
        "from PIL import Image\n",
        "from torch import optim\n",
        "device='cuda' if torch.cuda.is_available() else 'cpu'\n",
        "import cv2, glob, numpy as np, pandas as pd\n",
        "import matplotlib.pyplot as plt\n",
        "%matplotlib inline\n",
        "from glob import glob \n",
        "!pip install torch_summary\n",
        "from torchsummary import summary\n",
        "import random\n",
        "import os\n",
        "import shutil\n",
        "import numpy as np\n",
        "from google.colab import files\n",
        "import zipfile\n",
        "import pandas as pd\n",
        "from sklearn.utils import shuffle\n",
        "from torch.utils.data import DataLoader, Dataset"
      ],
      "execution_count": null,
      "outputs": [
        {
          "output_type": "stream",
          "name": "stdout",
          "text": [
            "Collecting torch_summary\n",
            "  Downloading torch_summary-1.4.5-py3-none-any.whl (16 kB)\n",
            "Installing collected packages: torch-summary\n",
            "Successfully installed torch-summary-1.4.5\n"
          ]
        }
      ]
    },
    {
      "cell_type": "code",
      "metadata": {
        "colab": {
          "resources": {
            "http://localhost:8080/nbextensions/google.colab/files.js": {
              "data": "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",
              "ok": true,
              "headers": [
                [
                  "content-type",
                  "application/javascript"
                ]
              ],
              "status": 200,
              "status_text": ""
            }
          },
          "base_uri": "https://localhost:8080/",
          "height": 327
        },
        "id": "Zq93AJP2iQAd",
        "outputId": "33f3c5b9-18b5-451f-b7e9-6b37fc9d15ae"
      },
      "source": [
        "! pip install -q kaggle\n",
        "\n",
        "! pip install --upgrade --force-reinstall --no-deps kaggle\n",
        "\n",
        "files.upload()"
      ],
      "execution_count": null,
      "outputs": [
        {
          "output_type": "stream",
          "name": "stdout",
          "text": [
            "Collecting kaggle\n",
            "  Downloading kaggle-1.5.12.tar.gz (58 kB)\n",
            "\u001b[?25l\r\u001b[K     |█████▋                          | 10 kB 33.0 MB/s eta 0:00:01\r\u001b[K     |███████████▏                    | 20 kB 8.4 MB/s eta 0:00:01\r\u001b[K     |████████████████▊               | 30 kB 7.6 MB/s eta 0:00:01\r\u001b[K     |██████████████████████▎         | 40 kB 7.2 MB/s eta 0:00:01\r\u001b[K     |███████████████████████████▉    | 51 kB 4.1 MB/s eta 0:00:01\r\u001b[K     |████████████████████████████████| 58 kB 2.7 MB/s \n",
            "\u001b[?25hBuilding wheels for collected packages: kaggle\n",
            "  Building wheel for kaggle (setup.py) ... \u001b[?25l\u001b[?25hdone\n",
            "  Created wheel for kaggle: filename=kaggle-1.5.12-py3-none-any.whl size=73051 sha256=c4e32edd7c86f328fa0e350a358ca9ad004b77debcd4c79b2654ba234b5b5332\n",
            "  Stored in directory: /root/.cache/pip/wheels/62/d6/58/5853130f941e75b2177d281eb7e44b4a98ed46dd155f556dc5\n",
            "Successfully built kaggle\n",
            "Installing collected packages: kaggle\n",
            "  Attempting uninstall: kaggle\n",
            "    Found existing installation: kaggle 1.5.12\n",
            "    Uninstalling kaggle-1.5.12:\n",
            "      Successfully uninstalled kaggle-1.5.12\n",
            "Successfully installed kaggle-1.5.12\n"
          ]
        },
        {
          "output_type": "display_data",
          "data": {
            "text/html": [
              "\n",
              "     <input type=\"file\" id=\"files-5e773759-4e40-44eb-a316-5cebdc1be05f\" name=\"files[]\" multiple disabled\n",
              "        style=\"border:none\" />\n",
              "     <output id=\"result-5e773759-4e40-44eb-a316-5cebdc1be05f\">\n",
              "      Upload widget is only available when the cell has been executed in the\n",
              "      current browser session. Please rerun this cell to enable.\n",
              "      </output>\n",
              "      <script src=\"/nbextensions/google.colab/files.js\"></script> "
            ],
            "text/plain": [
              "<IPython.core.display.HTML object>"
            ]
          },
          "metadata": {}
        },
        {
          "output_type": "stream",
          "name": "stdout",
          "text": [
            "Saving kaggle.json to kaggle.json\n"
          ]
        },
        {
          "output_type": "execute_result",
          "data": {
            "text/plain": [
              "{'kaggle.json': b'{\"username\":\"emmagamble\",\"key\":\"d7d47782414afd65e498e1a4d2221bf8\"}'}"
            ]
          },
          "metadata": {},
          "execution_count": 2
        }
      ]
    },
    {
      "cell_type": "code",
      "metadata": {
        "colab": {
          "base_uri": "https://localhost:8080/"
        },
        "id": "Di5n8gFRiY2n",
        "outputId": "77b77667-e447-4a5b-d1ae-a28d572ecd9e"
      },
      "source": [
        "! mkdir ~/.kaggle\n",
        "\n",
        "! cp kaggle.json ~/.kaggle/\n",
        "\n",
        "! chmod 600 ~/.kaggle/kaggle.json\n",
        "\n",
        "! kaggle competitions download -c histopathologic-cancer-detection"
      ],
      "execution_count": null,
      "outputs": [
        {
          "output_type": "stream",
          "name": "stdout",
          "text": [
            "Downloading histopathologic-cancer-detection.zip to /content\n",
            "100% 6.29G/6.31G [02:19<00:00, 79.0MB/s]\n",
            "100% 6.31G/6.31G [02:19<00:00, 48.4MB/s]\n"
          ]
        }
      ]
    },
    {
      "cell_type": "code",
      "metadata": {
        "id": "zvdzqfSzileH"
      },
      "source": [
        "zip = zipfile.ZipFile('histopathologic-cancer-detection.zip')\n",
        "\n",
        "zip.extractall()"
      ],
      "execution_count": null,
      "outputs": []
    },
    {
      "cell_type": "code",
      "metadata": {
        "colab": {
          "base_uri": "https://localhost:8080/"
        },
        "id": "oXCcaDDDitmi",
        "outputId": "74577b29-65a9-4839-eb7e-faa4b61f3236"
      },
      "source": [
        "# See image count in each folder\n",
        "print(len(os.listdir('../content/train')))\n",
        "print(len(os.listdir('../content/test')))"
      ],
      "execution_count": null,
      "outputs": [
        {
          "output_type": "stream",
          "name": "stdout",
          "text": [
            "220025\n",
            "57458\n"
          ]
        }
      ]
    },
    {
      "cell_type": "code",
      "metadata": {
        "colab": {
          "base_uri": "https://localhost:8080/",
          "height": 204
        },
        "id": "iUtXz76Uiuz9",
        "outputId": "0c945c58-9734-4211-8efc-929564cbc068"
      },
      "source": [
        "# Create a Dataframe containing all images\n",
        "# One column has the image ids, while the other has the label (0 for no cancer, and 1 for cancer)\n",
        "\n",
        "data = pd.read_csv('../content/train_labels.csv')\n",
        "\n",
        "# Removing this image because it causes a training error\n",
        "data[data['id'] != 'dd6dfed324f9fcb6f93f46f32fc800f2ec196be2']\n",
        "\n",
        "# Removing this image because it's black\n",
        "data[data['id'] != '9369c7278ec8bcc6c880d99194de09fc2bd4efbe']\n",
        "\n",
        "data.head(5)"
      ],
      "execution_count": null,
      "outputs": [
        {
          "output_type": "execute_result",
          "data": {
            "text/html": [
              "<div>\n",
              "<style scoped>\n",
              "    .dataframe tbody tr th:only-of-type {\n",
              "        vertical-align: middle;\n",
              "    }\n",
              "\n",
              "    .dataframe tbody tr th {\n",
              "        vertical-align: top;\n",
              "    }\n",
              "\n",
              "    .dataframe thead th {\n",
              "        text-align: right;\n",
              "    }\n",
              "</style>\n",
              "<table border=\"1\" class=\"dataframe\">\n",
              "  <thead>\n",
              "    <tr style=\"text-align: right;\">\n",
              "      <th></th>\n",
              "      <th>id</th>\n",
              "      <th>label</th>\n",
              "    </tr>\n",
              "  </thead>\n",
              "  <tbody>\n",
              "    <tr>\n",
              "      <th>0</th>\n",
              "      <td>f38a6374c348f90b587e046aac6079959adf3835</td>\n",
              "      <td>0</td>\n",
              "    </tr>\n",
              "    <tr>\n",
              "      <th>1</th>\n",
              "      <td>c18f2d887b7ae4f6742ee445113fa1aef383ed77</td>\n",
              "      <td>1</td>\n",
              "    </tr>\n",
              "    <tr>\n",
              "      <th>2</th>\n",
              "      <td>755db6279dae599ebb4d39a9123cce439965282d</td>\n",
              "      <td>0</td>\n",
              "    </tr>\n",
              "    <tr>\n",
              "      <th>3</th>\n",
              "      <td>bc3f0c64fb968ff4a8bd33af6971ecae77c75e08</td>\n",
              "      <td>0</td>\n",
              "    </tr>\n",
              "    <tr>\n",
              "      <th>4</th>\n",
              "      <td>068aba587a4950175d04c680d38943fd488d6a9d</td>\n",
              "      <td>0</td>\n",
              "    </tr>\n",
              "  </tbody>\n",
              "</table>\n",
              "</div>"
            ],
            "text/plain": [
              "                                         id  label\n",
              "0  f38a6374c348f90b587e046aac6079959adf3835      0\n",
              "1  c18f2d887b7ae4f6742ee445113fa1aef383ed77      1\n",
              "2  755db6279dae599ebb4d39a9123cce439965282d      0\n",
              "3  bc3f0c64fb968ff4a8bd33af6971ecae77c75e08      0\n",
              "4  068aba587a4950175d04c680d38943fd488d6a9d      0"
            ]
          },
          "metadata": {},
          "execution_count": 6
        }
      ]
    },
    {
      "cell_type": "code",
      "metadata": {
        "colab": {
          "base_uri": "https://localhost:8080/"
        },
        "id": "QebIjyTOjnos",
        "outputId": "be98b521-b00d-4059-efe7-26ad458c5955"
      },
      "source": [
        "df_data = pd.read_csv('../content/train_labels.csv')\n",
        "\n",
        "# Check the class distribution\n",
        "\n",
        "print(df_data['label'].value_counts())"
      ],
      "execution_count": null,
      "outputs": [
        {
          "output_type": "stream",
          "name": "stdout",
          "text": [
            "0    130908\n",
            "1     89117\n",
            "Name: label, dtype: int64\n"
          ]
        }
      ]
    },
    {
      "cell_type": "code",
      "metadata": {
        "colab": {
          "base_uri": "https://localhost:8080/"
        },
        "id": "iozAzjmKjrPX",
        "outputId": "d1eaf874-481c-4f34-92a9-061910811491"
      },
      "source": [
        "IMAGE_SIZE = 96 #we have 96x96 images\n",
        "IMAGE_CHANNELS = 3 #rgb images\n",
        "SAMPLE_SIZE = 80000 # the number of images we use from each of the two classes\n",
        "\n",
        "# take a random sample of class 0 with size equal to num samples in class 1\n",
        "df_0 = df_data[df_data['label'] == 0].sample(SAMPLE_SIZE, random_state = 101)\n",
        "# filter out class 1\n",
        "df_1 = df_data[df_data['label'] == 1].sample(SAMPLE_SIZE, random_state = 101)\n",
        "\n",
        "# concat the dataframes\n",
        "df_data = pd.concat([df_0, df_1], axis=0).reset_index(drop=True)\n",
        "# shuffle\n",
        "df_data = shuffle(df_data)\n",
        "\n",
        "df_data['label'].value_counts()"
      ],
      "execution_count": null,
      "outputs": [
        {
          "output_type": "execute_result",
          "data": {
            "text/plain": [
              "1    80000\n",
              "0    80000\n",
              "Name: label, dtype: int64"
            ]
          },
          "metadata": {},
          "execution_count": 8
        }
      ]
    },
    {
      "cell_type": "code",
      "metadata": {
        "colab": {
          "base_uri": "https://localhost:8080/",
          "height": 255
        },
        "id": "01QTF52TkFc1",
        "outputId": "25c37fad-183f-42d0-81b7-b5d343b82300"
      },
      "source": [
        "#Seperate data into train, validation and test datasets\n",
        "df_train, df_val, df_test = np.split(df_data.sample(frac=1), [int(.6*len(df_data)), int(.8*len(df_data))])\n",
        "\n",
        "print(df_train.shape)\n",
        "print(df_test.shape)\n",
        "print(df_val.shape)\n",
        "\n",
        "df_train.head()"
      ],
      "execution_count": null,
      "outputs": [
        {
          "output_type": "stream",
          "name": "stdout",
          "text": [
            "(96000, 2)\n",
            "(32000, 2)\n",
            "(32000, 2)\n"
          ]
        },
        {
          "output_type": "execute_result",
          "data": {
            "text/html": [
              "<div>\n",
              "<style scoped>\n",
              "    .dataframe tbody tr th:only-of-type {\n",
              "        vertical-align: middle;\n",
              "    }\n",
              "\n",
              "    .dataframe tbody tr th {\n",
              "        vertical-align: top;\n",
              "    }\n",
              "\n",
              "    .dataframe thead th {\n",
              "        text-align: right;\n",
              "    }\n",
              "</style>\n",
              "<table border=\"1\" class=\"dataframe\">\n",
              "  <thead>\n",
              "    <tr style=\"text-align: right;\">\n",
              "      <th></th>\n",
              "      <th>id</th>\n",
              "      <th>label</th>\n",
              "    </tr>\n",
              "  </thead>\n",
              "  <tbody>\n",
              "    <tr>\n",
              "      <th>37939</th>\n",
              "      <td>4725ae2a4046e97a1e3f6e8407f827cb2cc9dca8</td>\n",
              "      <td>0</td>\n",
              "    </tr>\n",
              "    <tr>\n",
              "      <th>28847</th>\n",
              "      <td>e7aac64fe2fa28dea114ce588ce234ee780e4f66</td>\n",
              "      <td>0</td>\n",
              "    </tr>\n",
              "    <tr>\n",
              "      <th>104017</th>\n",
              "      <td>9b884c8ceb28afb58cc122ec4fffbb61c1e25644</td>\n",
              "      <td>1</td>\n",
              "    </tr>\n",
              "    <tr>\n",
              "      <th>59090</th>\n",
              "      <td>1b284eb878e57c5b0bcb5400451bccf0c0933697</td>\n",
              "      <td>0</td>\n",
              "    </tr>\n",
              "    <tr>\n",
              "      <th>29289</th>\n",
              "      <td>7713d350650d3fedb83ea2f95c0b0e803441bd30</td>\n",
              "      <td>0</td>\n",
              "    </tr>\n",
              "  </tbody>\n",
              "</table>\n",
              "</div>"
            ],
            "text/plain": [
              "                                              id  label\n",
              "37939   4725ae2a4046e97a1e3f6e8407f827cb2cc9dca8      0\n",
              "28847   e7aac64fe2fa28dea114ce588ce234ee780e4f66      0\n",
              "104017  9b884c8ceb28afb58cc122ec4fffbb61c1e25644      1\n",
              "59090   1b284eb878e57c5b0bcb5400451bccf0c0933697      0\n",
              "29289   7713d350650d3fedb83ea2f95c0b0e803441bd30      0"
            ]
          },
          "metadata": {},
          "execution_count": 9
        }
      ]
    },
    {
      "cell_type": "code",
      "metadata": {
        "colab": {
          "base_uri": "https://localhost:8080/"
        },
        "id": "y2BpkY7bkPEP",
        "outputId": "91a694a4-8283-42bb-a026-5279386cb45c"
      },
      "source": [
        "# Check the training set counts\n",
        "df_train['label'].value_counts()\n",
        "#Check the test set counts\n",
        "df_test['label'].value_counts()\n",
        "# Check the validation set counts\n",
        "df_val['label'].value_counts()"
      ],
      "execution_count": null,
      "outputs": [
        {
          "output_type": "execute_result",
          "data": {
            "text/plain": [
              "0    16061\n",
              "1    15939\n",
              "Name: label, dtype: int64"
            ]
          },
          "metadata": {},
          "execution_count": 10
        }
      ]
    },
    {
      "cell_type": "code",
      "metadata": {
        "id": "PGQ7s-ewkeJ5"
      },
      "source": [
        "# Create a new directory\n",
        "base_dir = 'base_dir'\n",
        "os.mkdir(base_dir)\n",
        "\n",
        "#[CREATE FOLDERS INSIDE THE BASE DIRECTORY]\n",
        "# now we create 2 folders inside 'base_dir':\n",
        "\n",
        "# train_dir\n",
        "    # a_no_tumor_tissue\n",
        "    # b_has_tumor_tissue\n",
        "    \n",
        "# test_dir\n",
        "    # a_no_tumor_issue\n",
        "    # b_has_tumor_issue\n",
        "    \n",
        "# val_dir\n",
        "    # a_no_tumor_tissue\n",
        "    # b_has_tumor_tissue\n",
        "    \n",
        "# create a path to 'base_dir' to which we will join the names of the new folders\n",
        "\n",
        "# train_dir\n",
        "train_dir = os.path.join(base_dir, 'train_dir')\n",
        "os.mkdir(train_dir)\n",
        "\n",
        "# test_dir\n",
        "test_dir = os.path.join(base_dir, 'test_dir')\n",
        "os.mkdir(test_dir)\n",
        "\n",
        "# val_dir\n",
        "val_dir = os.path.join(base_dir, 'val_dir')\n",
        "os.mkdir(val_dir)\n",
        "\n",
        "\n",
        "# [CREATE FOLDERS INSIDE THE TRAIN AND VALIDATION FOLDERS]\n",
        "# Inside each folder we create seperate folders for each class\n",
        "\n",
        "# create new folders inside train_dir\n",
        "no_tumor_tissue = os.path.join(train_dir, 'a_no_tumor_tissue')\n",
        "os.mkdir(no_tumor_tissue)\n",
        "has_tumor_tissue = os.path.join(train_dir, 'b_has_tumor_tissue')\n",
        "os.mkdir(has_tumor_tissue)\n",
        "\n",
        "\n",
        "#create new folders inside test_dir\n",
        "no_tumor_tissue = os.path.join(test_dir, 'a_no_tumor_tissue')\n",
        "os.mkdir(no_tumor_tissue)\n",
        "has_tumor_tissue = os.path.join(test_dir, 'b_has_tumor_tissue')\n",
        "os.mkdir(has_tumor_tissue)\n",
        "\n",
        "\n",
        "# create new folders inside val_dir\n",
        "no_tumor_tissue = os.path.join(val_dir, 'a_no_tumor_tissue')\n",
        "os.mkdir(no_tumor_tissue)\n",
        "has_tumor_tissue = os.path.join(val_dir, 'b_has_tumor_tissue')\n",
        "os.mkdir(has_tumor_tissue)"
      ],
      "execution_count": null,
      "outputs": []
    },
    {
      "cell_type": "code",
      "metadata": {
        "id": "_NMZGD2uknI_"
      },
      "source": [
        "# (experiment)check that the folders have been created\n",
        "print(os.listdir('gdrive/My Drive/Colab Notebooks/base_dir/train_dir'))\n",
        "print(os.listdir('gdrive/My Drive/Colab Notebooks/base_dir/test_dir'))\n",
        "print(os.listdir('gdrive/My Drive/Colab Notebooks/base_dir/val_dir'))"
      ],
      "execution_count": null,
      "outputs": []
    },
    {
      "cell_type": "code",
      "metadata": {
        "colab": {
          "base_uri": "https://localhost:8080/"
        },
        "id": "ipzsut167kQK",
        "outputId": "13a7dc06-12bb-4056-9f54-5a805993a73f"
      },
      "source": [
        "# check that the folders have been created\n",
        "print(os.listdir('base_dir/train_dir'))\n",
        "print(os.listdir('base_dir/test_dir'))\n",
        "print(os.listdir('base_dir/val_dir'))"
      ],
      "execution_count": null,
      "outputs": [
        {
          "output_type": "stream",
          "name": "stdout",
          "text": [
            "['a_no_tumor_tissue', 'b_has_tumor_tissue']\n",
            "['a_no_tumor_tissue', 'b_has_tumor_tissue']\n",
            "['a_no_tumor_tissue', 'b_has_tumor_tissue']\n"
          ]
        }
      ]
    },
    {
      "cell_type": "code",
      "metadata": {
        "id": "8huvDGhAkn2c"
      },
      "source": [
        "# Set the id as the index in df_data\n",
        "df_data.set_index('id', inplace=True)\n",
        "\n",
        "# Get a list of train and val images\n",
        "train_list = list(df_train['id'])\n",
        "test_list = list(df_test['id'])\n",
        "val_list = list(df_val['id'])\n",
        "\n",
        "\n",
        "# Transfer the train images\n",
        "count = 0\n",
        "for image in train_list:\n",
        "    count += 1\n",
        "    # the id in the csv file does not have the .tif extension therefore we add it here\n",
        "    fname = image + '.tif'\n",
        "    # get the label for a certain image\n",
        "    target = df_data.loc[image,'label']\n",
        "\n",
        "    # these must match the folder names\n",
        "    if target.any() == 0:\n",
        "        label = 'a_no_tumor_tissue'\n",
        "    if target.any() == 1:\n",
        "        label = 'b_has_tumor_tissue'\n",
        "    \n",
        "    # source path to image\n",
        "    src = os.path.join('../content/train', fname)\n",
        "    # destination path to image\n",
        "    dst = os.path.join(train_dir, label, fname)\n",
        "    # copy the image from the source to the destination\n",
        "    shutil.copyfile(src, dst)\n",
        "\n",
        "\n",
        "# Transfer the test images\n",
        "for image in test_list:\n",
        "    \n",
        "    # the id in the csv file does not have the .tif extension therefore we add it here\n",
        "    fname = image + '.tif'\n",
        "    # get the label for a certain image\n",
        "    target = df_data.loc[image,'label']\n",
        "    \n",
        "    # these must match the folder names\n",
        "    if target.any() == 0:\n",
        "       label = 'a_no_tumor_tissue'\n",
        "    if target.any() == 1:\n",
        "        label = 'b_has_tumor_tissue'\n",
        "    \n",
        "\n",
        "    # source path to image\n",
        "    src = os.path.join('../content/train', fname)\n",
        "    # destination path to image\n",
        "    dst = os.path.join(test_dir, label, fname)\n",
        "    # copy the image from the source to the destination\n",
        "    shutil.copyfile(src, dst)\n",
        "\n",
        "# Transfer the val images\n",
        "\n",
        "for image in val_list:\n",
        "    \n",
        "    # the id in the csv file does not have the .tif extension therefore we add it here\n",
        "    fname = image + '.tif'\n",
        "    # get the label for a certain image\n",
        "    target = df_data.loc[image,'label']\n",
        "    \n",
        "    # these must match the folder names\n",
        "    if target.any() == 0:\n",
        "        label = 'a_no_tumor_tissue'\n",
        "    if target.any() == 1:\n",
        "        label = 'b_has_tumor_tissue'\n",
        "    \n",
        "\n",
        "    # source path to image\n",
        "    src = os.path.join('../content/train', fname)\n",
        "    # destination path to image\n",
        "    dst = os.path.join(val_dir, label, fname)\n",
        "    # copy the image from the source to the destination\n",
        "    shutil.copyfile(src, dst)"
      ],
      "execution_count": null,
      "outputs": []
    },
    {
      "cell_type": "code",
      "metadata": {
        "colab": {
          "base_uri": "https://localhost:8080/"
        },
        "id": "xTgfyletk2WO",
        "outputId": "1940f004-acad-4858-f4f5-b70e92ca5b7c"
      },
      "source": [
        "# check how many train images we have in each folder\n",
        "print(\"Number of training images in the no cancer and cancer folders respectively\")\n",
        "print(len(os.listdir('base_dir/train_dir/a_no_tumor_tissue')))\n",
        "print(len(os.listdir('base_dir/train_dir/b_has_tumor_tissue')))\n",
        "\n",
        "# check how many test images we have in each folder\n",
        "print(\"Number of test images in the no cancer and cancer folders respectively\")\n",
        "print(len(os.listdir('base_dir/test_dir/a_no_tumor_tissue')))\n",
        "print(len(os.listdir('base_dir/test_dir/b_has_tumor_tissue')))\n",
        "\n",
        "# check how many val images we have in each folder\n",
        "print(\"Number of validation images in the no cancer and cancer folders respectively\")\n",
        "print(len(os.listdir('base_dir/val_dir/a_no_tumor_tissue')))\n",
        "print(len(os.listdir('base_dir/val_dir/b_has_tumor_tissue')))"
      ],
      "execution_count": null,
      "outputs": [
        {
          "output_type": "stream",
          "name": "stdout",
          "text": [
            "Number of training images in the no cancer and cancer folders respectively\n",
            "48045\n",
            "47955\n",
            "Number of test images in the no cancer and cancer folders respectively\n",
            "15894\n",
            "16106\n",
            "Number of validation images in the no cancer and cancer folders respectively\n",
            "16061\n",
            "15939\n"
          ]
        }
      ]
    },
    {
      "cell_type": "code",
      "metadata": {
        "id": "thPACKizljDC"
      },
      "source": [
        "train_data_dir = 'base_dir/train_dir'\n",
        "val_data_dir = 'base_dir/val_dir'\n",
        "test_data_dir = 'base_dir/test_dir'"
      ],
      "execution_count": null,
      "outputs": []
    },
    {
      "cell_type": "code",
      "metadata": {
        "id": "GVzpLsJzlphV"
      },
      "source": [
        "class cancer(Dataset):\n",
        "  def __init__(self, folder):\n",
        "    tumour = glob(folder+'/b_has_tumor_tissue/*.tif') \n",
        "    no_tumour = glob(folder+'/a_no_tumor_tissue/*.tif')  \n",
        "    self.fpaths = tumour + no_tumour\n",
        "    from random import shuffle, seed; seed(10); shuffle(self.fpaths)\n",
        "    self.targets = [fpath.split('/')[-2].startswith('a') for fpath in self.fpaths] # no_tumour=1 & tumour=0\n",
        "  def __len__(self): return len(self.fpaths)\n",
        "  def __getitem__(self, ix):\n",
        "    f = self.fpaths[ix]\n",
        "    target = self.targets[ix]\n",
        "    im = (cv2.imread(f)[:,:,::-1])\n",
        "    im = cv2.resize(im, (224,224))\n",
        "    return torch.tensor(im/255).permute(2,0,1).to(device).float(), torch.tensor([target]).float().to(device)"
      ],
      "execution_count": null,
      "outputs": []
    },
    {
      "cell_type": "code",
      "metadata": {
        "colab": {
          "base_uri": "https://localhost:8080/",
          "height": 286
        },
        "id": "AsYzJgV0l2OG",
        "outputId": "3ea99f45-a72e-42b1-ce07-9d07d9951268"
      },
      "source": [
        "#inspect a random image\n",
        "data = cancer(train_data_dir)\n",
        "im, label = data[3]\n",
        "plt.imshow(im.permute(1,2,0).cpu())\n",
        "print(label)"
      ],
      "execution_count": null,
      "outputs": [
        {
          "output_type": "stream",
          "name": "stdout",
          "text": [
            "tensor([0.], device='cuda:0')\n"
          ]
        },
        {
          "output_type": "display_data",
          "data": {
            "image/png": "[encoded data removed]",
            "text/plain": [
              "<Figure size 432x288 with 1 Axes>"
            ]
          },
          "metadata": {
            "needs_background": "light"
          }
        }
      ]
    },
    {
      "cell_type": "code",
      "metadata": {
        "colab": {
          "base_uri": "https://localhost:8080/"
        },
        "id": "RTPpN8MUmNnZ",
        "outputId": "25c5ca4a-a166-4369-98f6-b9645ee136a7"
      },
      "source": [
        "#Define a model, loss function and optimizer\n",
        "def conv_layer(ni,no,kernal_size, stride=1):\n",
        "  return nn.Sequential(\n",
        "      nn.Dropout(p=0.2),\n",
        "      nn.Conv2d(ni,no,kernal_size,stride),\n",
        "      nn.ReLU(),\n",
        "      nn.BatchNorm2d(no),\n",
        "      nn.MaxPool2d(2)\n",
        "  )\n",
        "\n",
        "def get_model():\n",
        "  model=nn.Sequential(\n",
        "      conv_layer(3,64,3),\n",
        "      conv_layer(64,512,3),\n",
        "      conv_layer(512,512,3),\n",
        "      conv_layer(512,512,3),\n",
        "      conv_layer(512,512,3),\n",
        "      conv_layer(512,512,3),\n",
        "      nn.Flatten(),\n",
        "      nn.Dropout(p=0.2),\n",
        "      nn.Linear(512,1),\n",
        "      nn.Sigmoid(),\n",
        "  ).to(device)\n",
        "  loss_fn=nn.BCELoss()\n",
        "  optimizer=torch.optim.Adam(model.parameters(), lr=1e-3)\n",
        "  return model, loss_fn, optimizer\n",
        "\n",
        "from torchsummary import summary\n",
        "model, loss_fn, optimizer=get_model()\n",
        "summary(model, torch.zeros(1,3,224,224));"
      ],
      "execution_count": null,
      "outputs": [
        {
          "output_type": "stream",
          "name": "stdout",
          "text": [
            "==========================================================================================\n",
            "Layer (type:depth-idx)                   Output Shape              Param #\n",
            "==========================================================================================\n",
            "├─Sequential: 1-1                        [-1, 64, 111, 111]        --\n",
            "|    └─Dropout: 2-1                      [-1, 3, 224, 224]         --\n",
            "|    └─Conv2d: 2-2                       [-1, 64, 222, 222]        1,792\n",
            "|    └─ReLU: 2-3                         [-1, 64, 222, 222]        --\n",
            "|    └─BatchNorm2d: 2-4                  [-1, 64, 222, 222]        128\n",
            "|    └─MaxPool2d: 2-5                    [-1, 64, 111, 111]        --\n",
            "├─Sequential: 1-2                        [-1, 512, 54, 54]         --\n",
            "|    └─Dropout: 2-6                      [-1, 64, 111, 111]        --\n",
            "|    └─Conv2d: 2-7                       [-1, 512, 109, 109]       295,424\n",
            "|    └─ReLU: 2-8                         [-1, 512, 109, 109]       --\n",
            "|    └─BatchNorm2d: 2-9                  [-1, 512, 109, 109]       1,024\n",
            "|    └─MaxPool2d: 2-10                   [-1, 512, 54, 54]         --\n",
            "├─Sequential: 1-3                        [-1, 512, 26, 26]         --\n",
            "|    └─Dropout: 2-11                     [-1, 512, 54, 54]         --\n",
            "|    └─Conv2d: 2-12                      [-1, 512, 52, 52]         2,359,808\n",
            "|    └─ReLU: 2-13                        [-1, 512, 52, 52]         --\n",
            "|    └─BatchNorm2d: 2-14                 [-1, 512, 52, 52]         1,024\n",
            "|    └─MaxPool2d: 2-15                   [-1, 512, 26, 26]         --\n",
            "├─Sequential: 1-4                        [-1, 512, 12, 12]         --\n",
            "|    └─Dropout: 2-16                     [-1, 512, 26, 26]         --\n",
            "|    └─Conv2d: 2-17                      [-1, 512, 24, 24]         2,359,808\n",
            "|    └─ReLU: 2-18                        [-1, 512, 24, 24]         --\n",
            "|    └─BatchNorm2d: 2-19                 [-1, 512, 24, 24]         1,024\n",
            "|    └─MaxPool2d: 2-20                   [-1, 512, 12, 12]         --\n",
            "├─Sequential: 1-5                        [-1, 512, 5, 5]           --\n",
            "|    └─Dropout: 2-21                     [-1, 512, 12, 12]         --\n",
            "|    └─Conv2d: 2-22                      [-1, 512, 10, 10]         2,359,808\n",
            "|    └─ReLU: 2-23                        [-1, 512, 10, 10]         --\n",
            "|    └─BatchNorm2d: 2-24                 [-1, 512, 10, 10]         1,024\n",
            "|    └─MaxPool2d: 2-25                   [-1, 512, 5, 5]           --\n",
            "├─Sequential: 1-6                        [-1, 512, 1, 1]           --\n",
            "|    └─Dropout: 2-26                     [-1, 512, 5, 5]           --\n",
            "|    └─Conv2d: 2-27                      [-1, 512, 3, 3]           2,359,808\n",
            "|    └─ReLU: 2-28                        [-1, 512, 3, 3]           --\n",
            "|    └─BatchNorm2d: 2-29                 [-1, 512, 3, 3]           1,024\n",
            "|    └─MaxPool2d: 2-30                   [-1, 512, 1, 1]           --\n",
            "├─Flatten: 1-7                           [-1, 512]                 --\n",
            "├─Dropout: 1-8                           [-1, 512]                 --\n",
            "├─Linear: 1-9                            [-1, 1]                   513\n",
            "├─Sigmoid: 1-10                          [-1, 1]                   --\n",
            "==========================================================================================\n",
            "Total params: 9,742,209\n",
            "Trainable params: 9,742,209\n",
            "Non-trainable params: 0\n",
            "Total mult-adds (G): 11.59\n",
            "==========================================================================================\n",
            "Input size (MB): 0.57\n",
            "Forward/backward pass size (MB): 167.43\n",
            "Params size (MB): 37.16\n",
            "Estimated Total Size (MB): 205.16\n",
            "==========================================================================================\n"
          ]
        },
        {
          "output_type": "stream",
          "name": "stderr",
          "text": [
            "/usr/local/lib/python3.7/dist-packages/torch/nn/functional.py:718: UserWarning: Named tensors and all their associated APIs are an experimental feature and subject to change. Please do not use them for anything important until they are released as stable. (Triggered internally at  /pytorch/c10/core/TensorImpl.h:1156.)\n",
            "  return torch.max_pool2d(input, kernel_size, stride, padding, dilation, ceil_mode)\n"
          ]
        }
      ]
    },
    {
      "cell_type": "code",
      "metadata": {
        "id": "pX9PIkl7mcAd"
      },
      "source": [
        "def train_batch(x, y, model, opt, loss_fn):\n",
        "  model.train()\n",
        "  prediction=model(x)\n",
        "  batch_loss = loss_fn(prediction, y)\n",
        "  batch_loss.backward()\n",
        "  optimizer.step()\n",
        "  optimizer.zero_grad()\n",
        "  return batch_loss.item() "
      ],
      "execution_count": null,
      "outputs": []
    },
    {
      "cell_type": "code",
      "metadata": {
        "id": "nWJWaDsBmg-I"
      },
      "source": [
        "@torch.no_grad()\n",
        "def accuracy(x,y, model):\n",
        "  prediction=model(x)\n",
        "  is_correct=(prediction>0.5)==y\n",
        "  return is_correct.cpu().numpy().tolist()"
      ],
      "execution_count": null,
      "outputs": []
    },
    {
      "cell_type": "code",
      "metadata": {
        "id": "SUKEoGGTmjGG"
      },
      "source": [
        "def get_data():     \n",
        "    train = cancer(train_data_dir)\n",
        "    trn_dl = DataLoader(train, batch_size=32, shuffle=True, drop_last = True)\n",
        "    val = cancer(val_data_dir)\n",
        "    val_dl = DataLoader(val, batch_size=32, shuffle=True, drop_last = True)\n",
        "    return trn_dl, val_dl"
      ],
      "execution_count": null,
      "outputs": []
    },
    {
      "cell_type": "code",
      "metadata": {
        "id": "sl0SwO8qmmCe"
      },
      "source": [
        "@torch.no_grad()\n",
        "def val_loss(x, y, model):\n",
        "  prediction = model(x)\n",
        "  val_loss = loss_fn(prediction, y)\n",
        "  return val_loss.item()"
      ],
      "execution_count": null,
      "outputs": []
    },
    {
      "cell_type": "code",
      "metadata": {
        "id": "ZRIY4dXpmohb"
      },
      "source": [
        "trn_dl, val_dl = get_data()\n",
        "model, loss_fn, optimizer = get_model()"
      ],
      "execution_count": null,
      "outputs": []
    },
    {
      "cell_type": "code",
      "metadata": {
        "id": "xoLuTDF_mq0I"
      },
      "source": [
        "train_losses, train_accuracies = [], []\n",
        "val_losses, val_accuracies = [], []\n",
        "val_epoch_accuracy_max=0.00\n",
        "num_epochs=5\n",
        "for epoch in range(num_epochs):\n",
        "    print(epoch)\n",
        "    train_epoch_losses, train_epoch_accuracies = [], []\n",
        "    val_epoch_accuracies = []\n",
        "    for ix, batch in enumerate(iter(trn_dl)):\n",
        "        print(ix)\n",
        "        x, y = batch\n",
        "        batch_loss = train_batch(x, y, model, optimizer, loss_fn)\n",
        "        train_epoch_losses.append(batch_loss)        \n",
        "    train_epoch_loss = np.array(train_epoch_losses).mean()\n",
        "\n",
        "    for ix, batch in enumerate(iter(trn_dl)):\n",
        "        x, y = batch\n",
        "        is_correct = accuracy(x, y, model)\n",
        "        train_epoch_accuracies.extend(is_correct)\n",
        "    train_epoch_accuracy = np.mean(train_epoch_accuracies)\n",
        "\n",
        "    for ix, batch in enumerate(iter(val_dl)):\n",
        "        x, y = batch\n",
        "        val_is_correct = accuracy(x, y, model)\n",
        "        val_epoch_accuracies.extend(val_is_correct)\n",
        "        #validation_loss = val_loss(x, y, model)\n",
        "    val_epoch_accuracy = np.mean(val_epoch_accuracies)\n",
        "\n",
        "    print(\"train accuracy=\",train_epoch_accuracy)\n",
        "    print(\"validation accuracy=\",val_epoch_accuracy)\n",
        "    train_losses.append(train_epoch_loss)\n",
        "    train_accuracies.append(train_epoch_accuracy)\n",
        "    #val_losses.append(validation_loss)\n",
        "    val_accuracies.append(val_epoch_accuracy)\n",
        "\n",
        "    # save model if validation loss has decreased\n",
        "    #if val_epoch_accuracy >= val_epoch_accuracy_max:\n",
        "     #  print('Validation accuracy increased ({:.6f} --> {:.6f}).  Saving model ...'.format(\n",
        "      #  val_epoch_accuracy_max,\n",
        "       # val_epoch_accuracy))\n",
        "        #torch.save(model.state_dict(), 'gdrive/My Drive/Colab Notebooks/base_dir/saved_model')\n",
        "        #v#al_epoch_accuracy_max = val_epoch_accuracy\n"
      ],
      "execution_count": null,
      "outputs": []
    },
    {
      "cell_type": "code",
      "metadata": {
        "id": "Fl-_ah-ildXA"
      },
      "source": [
        "    test = cancer(test_data_dir)\n",
        "    test_dl = DataLoader(test, batch_size=32, shuffle=True, drop_last = True)"
      ],
      "execution_count": null,
      "outputs": []
    },
    {
      "cell_type": "code",
      "metadata": {
        "colab": {
          "base_uri": "https://localhost:8080/"
        },
        "id": "PcVQXJYGn7hc",
        "outputId": "5d8461c0-0f41-4b45-f11e-43cedd20bc85"
      },
      "source": [
        "test_accuracies=[]  \n",
        "for ix, batch in enumerate(iter(test_dl)):\n",
        "        x, y = batch\n",
        "        is_correct = accuracy(x, y, model)\n",
        "        #print(ix, is_correct)\n",
        "        test_accuracies.extend(is_correct)\n",
        "test_accuracy = np.mean(test_accuracies)\n",
        "print(test_accuracy)"
      ],
      "execution_count": null,
      "outputs": [
        {
          "output_type": "stream",
          "name": "stdout",
          "text": [
            "0.8941875\n"
          ]
        }
      ]
    },
    {
      "cell_type": "code",
      "metadata": {
        "colab": {
          "base_uri": "https://localhost:8080/",
          "height": 295
        },
        "id": "C9k-N97um0-O",
        "outputId": "c0f22f0d-9ce5-423d-fd77-e133e8ec76ac"
      },
      "source": [
        "epochs = range(num_epochs)\n",
        "import matplotlib.ticker as mtick\n",
        "import matplotlib.pyplot as plt\n",
        "import matplotlib.ticker as mticker\n",
        "%matplotlib inline\n",
        "plt.plot(epochs, train_accuracies, 'bo',\n",
        "label='Training accuracy')\n",
        "plt.plot(epochs, val_accuracies, 'r',\n",
        "label='Validation accuracy')\n",
        "plt.gca().xaxis.set_major_locator(mticker.MultipleLocator(1))\n",
        "plt.title('Training and validation accuracy')\n",
        "plt.xlabel('Epochs')\n",
        "plt.ylabel('Accuracy')\n",
        "plt.gca().set_yticklabels(['{:.0f}%'.format(x*100) \\\n",
        "for x in plt.gca().get_yticks()])\n",
        "plt.legend()\n",
        "plt.grid('off')\n",
        "plt.show()"
      ],
      "execution_count": null,
      "outputs": [
        {
          "output_type": "display_data",
          "data": {
            "image/png": "[encoded data removed]",
            "text/plain": [
              "<Figure size 432x288 with 1 Axes>"
            ]
          },
          "metadata": {
            "needs_background": "light"
          }
        }
      ]
    }
  ]
}